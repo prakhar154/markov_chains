{
 "cells": [
  {
   "cell_type": "code",
   "execution_count": 1,
   "metadata": {},
   "outputs": [],
   "source": [
    "import numpy as np"
   ]
  },
  {
   "cell_type": "code",
   "execution_count": 2,
   "metadata": {},
   "outputs": [],
   "source": [
    "def generateTable(data, k=4):\n",
    "    \n",
    "    T = {}\n",
    "    \n",
    "    for i in range(len(data)-k):\n",
    "        X = data[i:i+k]\n",
    "        Y = data[i+k]\n",
    "        \n",
    "        if T.get(X) is None:\n",
    "            T[X] = {}\n",
    "            T[X][Y] = 1\n",
    "        else:\n",
    "            if T[X].get(Y) is None:   \n",
    "                T[X][Y] = 1\n",
    "            else:\n",
    "                T[X][Y] += 1\n",
    "                \n",
    "    return T"
   ]
  },
  {
   "cell_type": "code",
   "execution_count": 3,
   "metadata": {},
   "outputs": [],
   "source": [
    "def convertIntoProbModel(T):\n",
    "    \n",
    "    for kx in T.keys():\n",
    "        \n",
    "        s = float(sum(T[kx].values()))\n",
    "        \n",
    "        for k in T[kx].keys():\n",
    "            T[kx][k] /= s\n",
    "            \n",
    "    return T"
   ]
  },
  {
   "cell_type": "code",
   "execution_count": 4,
   "metadata": {},
   "outputs": [],
   "source": [
    "text_path = \"song_lyrics.txt\"\n",
    "\n",
    "def load_text(filename):\n",
    "    \n",
    "    with open(filename, encoding='utf8') as f:\n",
    "        return f.read()\n",
    "    \n",
    "data = load_text(text_path)"
   ]
  },
  {
   "cell_type": "markdown",
   "metadata": {},
   "source": [
    "## Training Markov Chain"
   ]
  },
  {
   "cell_type": "code",
   "execution_count": 5,
   "metadata": {},
   "outputs": [],
   "source": [
    "def trainMarkovChain(text):\n",
    "    \n",
    "    T = generateTable(text)\n",
    "    T = convertIntoProbModel(T)\n",
    "    \n",
    "    return T"
   ]
  },
  {
   "cell_type": "code",
   "execution_count": 6,
   "metadata": {},
   "outputs": [
    {
     "name": "stdout",
     "output_type": "stream",
     "text": [
      "{\"I'm \": {'t': 1.0}, \"'m t\": {'i': 1.0}, 'm ti': {'r': 1.0}, ' tir': {'e': 1.0}, 'tire': {'d': 1.0}, 'ired': {' ': 0.5, ',': 0.5}, 'red ': {'o': 1.0}, 'ed o': {'f': 1.0}, 'd of': {' ': 1.0}, ' of ': {'b': 0.5, 'm': 0.16666666666666666, 'w': 0.16666666666666666, 'y': 0.16666666666666666}, 'of b': {'e': 1.0}, 'f be': {'i': 1.0}, ' bei': {'n': 1.0}, 'bein': {'g': 1.0}, 'eing': {' ': 1.0}, 'ing ': {'w': 0.23076923076923078, 's': 0.07692307692307693, 'o': 0.07692307692307693, 'i': 0.07692307692307693, 't': 0.46153846153846156, 'm': 0.07692307692307693}, 'ng w': {'h': 1.0}, 'g wh': {'a': 1.0}, ' wha': {'t': 1.0}, 'what': {' ': 1.0}, 'hat ': {'y': 0.75, 'I': 0.25}, 'at y': {'o': 1.0}, 't yo': {'u': 1.0}, ' you': {' ': 0.5238095238095238, \"'\": 0.09523809523809523, 'r': 0.047619047619047616, '\\n': 0.3333333333333333}, 'you ': {'w': 0.36363636363636365, 't': 0.5454545454545454, 's': 0.09090909090909091}, 'ou w': {'a': 0.75, 'e': 0.25}, 'u wa': {'n': 1.0}, ' wan': {'t': 1.0}, 'want': {' ': 1.0}, 'ant ': {'m': 0.5, 't': 0.5}, 'nt m': {'e': 1.0}, 't me': {' ': 1.0}, ' me ': {'t': 0.42857142857142855, 'a': 0.42857142857142855, 'w': 0.14285714285714285}, 'me t': {'o': 1.0}, 'e to': {' ': 1.0}, ' to ': {'b': 0.3333333333333333, 'y': 0.2222222222222222, 'd': 0.3333333333333333, 'l': 0.1111111111111111}, 'to b': {'e': 1.0}, 'o be': {'\\n': 1.0}, ' be\\n': {'F': 0.3333333333333333, 'H': 0.3333333333333333, 'I': 0.3333333333333333}, 'be\\nF': {'e': 1.0}, 'e\\nFe': {'e': 1.0}, '\\nFee': {'l': 1.0}, 'Feel': {'i': 1.0}, 'eeli': {'n': 1.0}, 'elin': {'g': 1.0}, 'ling': {' ': 1.0}, 'ng s': {'o': 1.0}, 'g so': {' ': 1.0}, ' so ': {'f': 0.08333333333333333, 'n': 0.4166666666666667, 't': 0.25, 'm': 0.25}, 'so f': {'a': 1.0}, 'o fa': {'i': 1.0}, ' fai': {'t': 0.5, 'l': 0.5}, 'fait': {'h': 1.0}, 'aith': {'l': 1.0}, 'ithl': {'e': 1.0}, 'thle': {'s': 1.0}, 'hles': {'s': 1.0}, 'less': {',': 0.25, ' ': 0.75}, 'ess,': {' ': 1.0}, 'ss, ': {'l': 1.0}, 's, l': {'o': 1.0}, ', lo': {'s': 1.0}, ' los': {'t': 0.5, 'e': 0.5}, 'lost': {' ': 1.0}, 'ost ': {'u': 1.0}, 'st u': {'n': 1.0}, 't un': {'d': 1.0}, ' und': {'e': 1.0}, 'unde': {'r': 1.0}, 'nder': {' ': 0.2, 't': 0.8}, 'der ': {'t': 1.0}, 'er t': {'h': 1.0}, 'r th': {'e': 1.0}, ' the': {' ': 0.6666666666666666, 'r': 0.3333333333333333}, 'the ': {'s': 0.1, 'p': 0.1, 'u': 0.8}, 'he s': {'u': 1.0}, 'e su': {'r': 1.0}, ' sur': {'f': 1.0}, 'surf': {'a': 1.0}, 'urfa': {'c': 1.0}, 'rfac': {'e': 1.0}, 'face': {'\\n': 1.0}, 'ace\\n': {'I': 1.0}, 'ce\\nI': {' ': 1.0}, 'e\\nI ': {'d': 1.0}, '\\nI d': {'o': 1.0}, 'I do': {'n': 1.0}, ' don': {\"'\": 1.0}, \"don'\": {'t': 1.0}, \"on't\": {' ': 1.0}, \"n't \": {'k': 0.14285714285714285, 'f': 0.7142857142857143, 'y': 0.14285714285714285}, \"'t k\": {'n': 1.0}, 't kn': {'o': 1.0}, ' kno': {'w': 1.0}, 'know': {' ': 1.0}, 'now ': {'w': 0.3333333333333333, 'I': 0.3333333333333333, 'y': 0.3333333333333333}, 'ow w': {'h': 1.0}, 'w wh': {'a': 1.0}, \"you'\": {'r': 1.0}, \"ou'r\": {'e': 1.0}, \"u're\": {' ': 1.0}, \"'re \": {'e': 0.5, 's': 0.5}, 're e': {'x': 1.0}, 'e ex': {'p': 1.0}, ' exp': {'e': 1.0}, 'expe': {'c': 1.0}, 'xpec': {'t': 1.0}, 'pect': {'i': 1.0}, 'ecti': {'n': 1.0}, 'ctin': {'g': 1.0}, 'ting': {' ': 1.0}, 'ng o': {'f': 1.0}, 'g of': {' ': 1.0}, 'of m': {'e': 1.0}, 'f me': {'\\n': 1.0}, ' me\\n': {'P': 1.0}, 'me\\nP': {'u': 1.0}, 'e\\nPu': {'t': 1.0}, '\\nPut': {' ': 1.0}, 'Put ': {'u': 1.0}, 'ut u': {'n': 1.0}, 'he p': {'r': 1.0}, 'e pr': {'e': 1.0}, ' pre': {'s': 1.0}, 'pres': {'s': 1.0}, 'ress': {'u': 1.0}, 'essu': {'r': 1.0}, 'ssur': {'e': 1.0}, 'sure': {' ': 1.0}, 'ure ': {'o': 1.0}, 're o': {'f': 1.0}, 'e of': {' ': 1.0}, 'of w': {'a': 1.0}, 'f wa': {'l': 1.0}, ' wal': {'k': 1.0}, 'walk': {'i': 1.0}, 'alki': {'n': 1.0}, 'lkin': {'g': 1.0}, 'king': {' ': 1.0}, 'ng i': {'n': 1.0}, 'g in': {' ': 1.0}, ' in ': {'y': 0.18181818181818182, 't': 0.7272727272727273, 'f': 0.09090909090909091}, 'in y': {'o': 1.0}, 'n yo': {'u': 1.0}, 'your': {' ': 1.0}, 'our ': {'s': 1.0}, 'ur s': {'h': 1.0}, 'r sh': {'o': 1.0}, ' sho': {'e': 1.0}, 'shoe': {'s': 1.0}, 'hoes': {'\\n': 1.0}, 'oes\\n': {'C': 1.0}, 'es\\nC': {'a': 1.0}, 's\\nCa': {'u': 1.0}, '\\nCau': {'g': 1.0}, 'Caug': {'h': 1.0}, 'augh': {'t': 1.0}, 'ught': {' ': 1.0}, 'ght ': {'i': 0.9, 'I': 0.1}, 'ht i': {'n': 1.0}, 't in': {' ': 1.0}, 'in t': {'h': 1.0}, 'n th': {'e': 1.0}, 'he u': {'n': 1.0}, 'e un': {'d': 1.0}, 'dert': {'o': 1.0}, 'erto': {'w': 1.0}, 'rtow': {',': 0.5, '\\n': 0.5}, 'tow,': {' ': 1.0}, 'ow, ': {'j': 1.0}, 'w, j': {'u': 1.0}, ', ju': {'s': 1.0}, ' jus': {'t': 1.0}, 'just': {' ': 1.0}, 'ust ': {'c': 0.8, 'l': 0.2}, 'st c': {'a': 1.0}, 't ca': {'u': 1.0}, ' cau': {'g': 1.0}, 'caug': {'h': 1.0}, 'tow\\n': {'E': 0.5, 'I': 0.25, 'A': 0.25}, 'ow\\nE': {'v': 1.0}, 'w\\nEv': {'e': 1.0}, '\\nEve': {'r': 1.0}, 'Ever': {'y': 1.0}, 'very': {' ': 0.75, 't': 0.25}, 'ery ': {'s': 1.0}, 'ry s': {'t': 0.6666666666666666, 'e': 0.3333333333333333}, 'y st': {'e': 1.0}, ' ste': {'p': 1.0}, 'step': {' ': 1.0}, 'tep ': {'t': 1.0}, 'ep t': {'h': 1.0}, 'p th': {'a': 1.0}, ' tha': {'t': 0.8, 'n': 0.2}, 'that': {' ': 1.0}, 'at I': {' ': 1.0}, 't I ': {'t': 0.5, 'w': 0.25, 'k': 0.25}, ' I t': {'a': 1.0}, 'I ta': {'k': 1.0}, ' tak': {'e': 1.0}, 'take': {' ': 0.8, '!': 0.2}, 'ake ': {'i': 0.5, 't': 0.5}, 'ke i': {'s': 1.0}, 'e is': {' ': 1.0}, ' is ': {'a': 0.6666666666666666, 'm': 0.3333333333333333}, 'is a': {'n': 0.4, 'l': 0.6}, 's an': {'o': 1.0}, ' ano': {'t': 1.0}, 'anot': {'h': 1.0}, 'noth': {'e': 1.0}, 'othe': {'r': 1.0}, 'ther': {' ': 0.25, 'e': 0.625, 'i': 0.125}, 'her ': {'m': 1.0}, 'er m': {'i': 1.0}, 'r mi': {'s': 1.0}, ' mis': {'t': 1.0}, 'mist': {'a': 1.0}, 'ista': {'k': 1.0}, 'stak': {'e': 1.0}, 'ke t': {'o': 1.0}, 'to y': {'o': 1.0}, 'o yo': {'u': 1.0}, 'you\\n': {'C': 0.5714285714285714, 'A': 0.14285714285714285, 'I': 0.2857142857142857}, 'ou\\nC': {'a': 1.0}, 'u\\nCa': {'u': 0.75, 'n': 0.25}, 'ow\\nI': {\"'\": 1.0}, \"w\\nI'\": {'v': 1.0}, \"\\nI'v\": {'e': 1.0}, \"I've\": {' ': 1.0}, \"'ve \": {'b': 1.0}, 've b': {'e': 1.0}, 'e be': {'c': 1.0}, ' bec': {'o': 1.0}, 'beco': {'m': 1.0}, 'ecom': {'e': 0.7272727272727273, 'i': 0.2727272727272727}, 'come': {' ': 1.0}, 'ome ': {'s': 1.0}, 'me s': {'o': 1.0}, 'e so': {' ': 1.0}, 'so n': {'u': 1.0}, 'o nu': {'m': 1.0}, ' num': {'b': 1.0}, 'numb': {',': 1.0}, 'umb,': {' ': 1.0}, 'mb, ': {'I': 1.0}, 'b, I': {' ': 1.0}, ', I ': {'c': 1.0}, ' I c': {'a': 1.0}, 'I ca': {'n': 1.0}, ' can': {\"'\": 0.8333333333333334, ' ': 0.16666666666666666}, \"can'\": {'t': 1.0}, \"an't\": {' ': 1.0}, \"'t f\": {'e': 1.0}, 't fe': {'e': 1.0}, ' fee': {'l': 1.0}, 'feel': {' ': 1.0}, 'eel ': {'y': 1.0}, 'el y': {'o': 1.0}, 'l yo': {'u': 1.0}, 'ou t': {'h': 1.0}, 'u th': {'e': 0.8333333333333334, 'o': 0.16666666666666666}, 'here': {'\\n': 1.0}, 'ere\\n': {'B': 0.6, 'I': 0.4}, 're\\nB': {'e': 0.5, 'y': 0.5}, 'e\\nBe': {'c': 1.0}, '\\nBec': {'o': 1.0}, 'Beco': {'m': 1.0}, 'so t': {'i': 1.0}, 'o ti': {'r': 0.75, 'g': 0.25}, 'red,': {' ': 1.0}, 'ed, ': {'s': 1.0}, 'd, s': {'o': 1.0}, ', so': {' ': 1.0}, 'so m': {'u': 1.0}, 'o mu': {'c': 1.0}, ' muc': {'h': 1.0}, 'much': {' ': 1.0}, 'uch ': {'m': 1.0}, 'ch m': {'o': 1.0}, 'h mo': {'r': 1.0}, ' mor': {'e': 1.0}, 'more': {' ': 1.0}, 'ore ': {'a': 0.42857142857142855, 'l': 0.42857142857142855, 't': 0.14285714285714285}, 're a': {'w': 1.0}, 'e aw': {'a': 1.0}, ' awa': {'r': 1.0}, 'awar': {'e': 1.0}, 'ware': {'\\n': 1.0}, 'are\\n': {'B': 1.0}, 'e\\nBy': {' ': 1.0}, '\\nBy ': {'b': 1.0}, 'By b': {'e': 1.0}, 'y be': {'c': 1.0}, 'comi': {'n': 1.0}, 'omin': {'g': 1.0}, 'ming': {' ': 1.0}, 'ng t': {'h': 0.6666666666666666, 'o': 0.3333333333333333}, 'g th': {'i': 0.75, 'a': 0.25}, ' thi': {'s': 1.0}, 'this': {' ': 1.0}, 'his ': {'a': 1.0}, 's al': {'l': 1.0}, ' all': {' ': 1.0}, 'all ': {'I': 1.0}, 'll I': {' ': 1.0}, 'l I ': {'w': 1.0}, ' I w': {'a': 0.8, 'o': 0.2}, 'I wa': {'n': 0.75, 's': 0.25}, 'nt t': {'o': 1.0}, 't to': {' ': 1.0}, 'to d': {'o': 1.0}, 'o do': {'\\n': 1.0}, ' do\\n': {'I': 1.0}, 'do\\nI': {'s': 1.0}, 'o\\nIs': {' ': 1.0}, '\\nIs ': {'b': 1.0}, 'Is b': {'e': 1.0}, 's be': {' ': 1.0}, ' be ': {'m': 0.5, 'l': 0.5}, 'be m': {'o': 1.0}, 'e mo': {'r': 1.0}, 're l': {'i': 1.0}, 'e li': {'k': 1.0}, ' lik': {'e': 1.0}, 'like': {' ': 1.0}, 'ike ': {'m': 0.5714285714285714, 'y': 0.42857142857142855}, 'ke m': {'e': 1.0}, 'e me': {' ': 1.0}, 'me a': {'n': 1.0}, 'e an': {'d': 1.0}, ' and': {' ': 1.0}, 'and ': {'b': 1.0}, 'nd b': {'e': 1.0}, 'd be': {' ': 0.75, '\\n': 0.25}, 'be l': {'e': 1.0}, 'e le': {'s': 1.0}, ' les': {'s': 1.0}, 'ess ': {'l': 1.0}, 'ss l': {'i': 1.0}, 's li': {'k': 1.0}, 'ke y': {'o': 1.0}, 'e yo': {'u': 1.0}, '\\nCan': {\"'\": 1.0}, \"Can'\": {'t': 1.0}, \"'t y\": {'o': 1.0}, 'ou s': {'e': 1.0}, 'u se': {'e': 1.0}, ' see': {' ': 1.0}, 'see ': {'t': 1.0}, 'ee t': {'h': 1.0}, 'e th': {'a': 1.0}, 're s': {'m': 1.0}, 'e sm': {'o': 1.0}, ' smo': {'t': 1.0}, 'smot': {'h': 1.0}, 'moth': {'e': 1.0}, 'heri': {'n': 1.0}, 'erin': {'g': 1.0}, 'ring': {' ': 1.0}, 'ng m': {'e': 1.0}, 'g me': {'?': 1.0}, ' me?': {'\\n': 1.0}, 'me?\\n': {'H': 1.0}, 'e?\\nH': {'o': 1.0}, '?\\nHo': {'l': 1.0}, '\\nHol': {'d': 1.0}, 'Hold': {'i': 1.0}, 'oldi': {'n': 1.0}, 'ldin': {'g': 1.0}, 'ding': {' ': 1.0}, 'g to': {'o': 1.0}, ' too': {' ': 0.5, '\\n': 0.5}, 'too ': {'t': 1.0}, 'oo t': {'i': 1.0}, ' tig': {'h': 1.0}, 'tigh': {'t': 1.0}, 'ight': {'l': 0.5, ' ': 0.5}, 'ghtl': {'y': 1.0}, 'htly': {',': 1.0}, 'tly,': {' ': 1.0}, 'ly, ': {'a': 1.0}, 'y, a': {'f': 1.0}, ', af': {'r': 1.0}, ' afr': {'a': 1.0}, 'afra': {'i': 1.0}, 'frai': {'d': 1.0}, 'raid': {' ': 1.0}, 'aid ': {'t': 1.0}, 'id t': {'o': 1.0}, 'd to': {' ': 1.0}, 'to l': {'o': 1.0}, 'o lo': {'s': 1.0}, 'lose': {' ': 1.0}, 'ose ': {'c': 1.0}, 'se c': {'o': 1.0}, 'e co': {'n': 1.0}, ' con': {'t': 1.0}, 'cont': {'r': 1.0}, 'ontr': {'o': 1.0}, 'ntro': {'l': 1.0}, 'trol': {'\\n': 1.0}, 'rol\\n': {\"'\": 1.0}, \"ol\\n'\": {'C': 1.0}, \"l\\n'C\": {'a': 1.0}, \"\\n'Ca\": {'u': 1.0}, \"'Cau\": {'s': 1.0}, 'Caus': {'e': 1.0}, 'ause': {' ': 1.0}, 'use ': {'e': 1.0}, 'se e': {'v': 1.0}, 'e ev': {'e': 1.0}, ' eve': {'r': 1.0}, 'ever': {'y': 1.0}, 'eryt': {'h': 1.0}, 'ryth': {'i': 1.0}, 'ythi': {'n': 1.0}, 'thin': {'g': 1.0}, 'hing': {' ': 1.0}, ' tho': {'u': 1.0}, 'thou': {'g': 1.0}, 'houg': {'h': 1.0}, 'ough': {'t': 1.0}, 'ht I': {' ': 1.0}, 'I wo': {'u': 1.0}, ' wou': {'l': 1.0}, 'woul': {'d': 1.0}, 'ould': {' ': 1.0}, 'uld ': {'b': 1.0}, 'ld b': {'e': 1.0}, 'be\\nH': {'a': 1.0}, 'e\\nHa': {'s': 1.0}, '\\nHas': {' ': 1.0}, 'Has ': {'f': 1.0}, 'as f': {'a': 1.0}, 's fa': {'l': 1.0}, ' fal': {'l': 1.0}, 'fall': {'e': 1.0}, 'alle': {'n': 1.0}, 'llen': {' ': 1.0}, 'len ': {'a': 1.0}, 'en a': {'p': 1.0}, 'n ap': {'a': 1.0}, ' apa': {'r': 1.0}, 'apar': {'t': 1.0}, 'part': {' ': 1.0}, 'art ': {'r': 1.0}, 'rt r': {'i': 1.0}, 't ri': {'g': 1.0}, ' rig': {'h': 1.0}, 'righ': {'t': 1.0}, 'in f': {'r': 1.0}, 'n fr': {'o': 1.0}, ' fro': {'n': 1.0}, 'fron': {'t': 1.0}, 'ront': {' ': 1.0}, 'ont ': {'o': 1.0}, 'nt o': {'f': 1.0}, 't of': {' ': 1.0}, 'of y': {'o': 1.0}, 'f yo': {'u': 1.0}, 'ow\\nA': {'n': 1.0}, 'w\\nAn': {'d': 1.0}, '\\nAnd': {' ': 1.0}, 'And ': {'e': 0.5, 'I': 0.5}, 'nd e': {'v': 1.0}, 'd ev': {'e': 1.0}, 'y se': {'c': 1.0}, ' sec': {'o': 1.0}, 'seco': {'n': 1.0}, 'econ': {'d': 1.0}, 'cond': {' ': 1.0}, 'ond ': {'I': 1.0}, 'nd I': {' ': 1.0}, 'd I ': {'w': 0.5, 'k': 0.5}, ' was': {'t': 1.0}, 'wast': {'e': 1.0}, 'aste': {' ': 1.0}, 'ste ': {'i': 1.0}, 'te i': {'s': 1.0}, 'is m': {'o': 1.0}, 's mo': {'r': 1.0}, 're t': {'h': 1.0}, 'than': {' ': 1.0}, 'han ': {'I': 1.0}, 'an I': {' ': 1.0}, 'n I ': {'c': 1.0}, 'can ': {'t': 1.0}, 'an t': {'a': 1.0}, 'n ta': {'k': 1.0}, 'ake!': {'\\n': 1.0}, 'ke!\\n': {'I': 1.0}, 'e!\\nI': {\"'\": 1.0}, \"!\\nI'\": {'v': 1.0}, 'ou\\nA': {'n': 1.0}, 'u\\nAn': {'d': 1.0}, ' I k': {'n': 1.0}, 'I kn': {'o': 1.0}, 'ow I': {' ': 1.0}, 'w I ': {'m': 1.0}, ' I m': {'a': 1.0}, 'I ma': {'y': 1.0}, ' may': {' ': 1.0}, 'may ': {'e': 1.0}, 'ay e': {'n': 1.0}, 'y en': {'d': 1.0}, ' end': {' ': 1.0}, 'end ': {'u': 1.0}, 'nd u': {'p': 1.0}, 'd up': {' ': 1.0}, ' up ': {'f': 1.0}, 'up f': {'a': 1.0}, 'p fa': {'i': 1.0}, 'fail': {'i': 1.0}, 'aili': {'n': 1.0}, 'ilin': {'g': 1.0}, 'too\\n': {'B': 1.0}, 'oo\\nB': {'u': 1.0}, 'o\\nBu': {'t': 1.0}, '\\nBut': {' ': 1.0}, 'But ': {'I': 1.0}, 'ut I': {' ': 1.0}, 'ow y': {'o': 1.0}, 'w yo': {'u': 1.0}, 'u we': {'r': 1.0}, ' wer': {'e': 1.0}, 'were': {' ': 1.0}, 'ere ': {'j': 1.0}, 're j': {'u': 1.0}, 'e ju': {'s': 1.0}, 'st l': {'i': 1.0}, 't li': {'k': 1.0}, 'me w': {'i': 1.0}, 'e wi': {'t': 1.0}, ' wit': {'h': 1.0}, 'with': {' ': 1.0}, 'ith ': {'s': 1.0}, 'th s': {'o': 1.0}, 'h so': {'m': 1.0}, ' som': {'e': 1.0}, 'some': {'o': 1.0}, 'omeo': {'n': 1.0}, 'meon': {'e': 1.0}, 'eone': {' ': 1.0}, 'one ': {'d': 1.0}, 'ne d': {'i': 1.0}, 'e di': {'s': 1.0}, ' dis': {'a': 1.0}, 'disa': {'p': 1.0}, 'isap': {'p': 1.0}, 'sapp': {'o': 1.0}, 'appo': {'i': 1.0}, 'ppoi': {'n': 1.0}, 'poin': {'t': 1.0}, 'oint': {'e': 1.0}, 'inte': {'d': 1.0}, 'nted': {' ': 1.0}, 'ted ': {'i': 1.0}, 'ed i': {'n': 1.0}, 'd in': {' ': 1.0}, 'ou\\nI': {\"'\": 1.0}, \"u\\nI'\": {'v': 1.0}, 're\\nI': {\"'\": 1.0}, \"e\\nI'\": {'m': 0.6666666666666666, 'v': 0.3333333333333333}, \"\\nI'm\": {' ': 1.0}, 'be\\nI': {\"'\": 1.0}}\n"
     ]
    }
   ],
   "source": [
    "model = trainMarkovChain(data)\n",
    "print(model)"
   ]
  },
  {
   "cell_type": "markdown",
   "metadata": {},
   "source": [
    "## Generating Text"
   ]
  },
  {
   "cell_type": "code",
   "execution_count": 7,
   "metadata": {},
   "outputs": [],
   "source": [
    "def sample_next(ctx, T, k):\n",
    "    \n",
    "    ctx = ctx[-k:]\n",
    "    if T.get(ctx) is None:\n",
    "        return \" \"\n",
    "    \n",
    "    possible_chars = list(T[ctx].keys())\n",
    "    possible_values = list(T[ctx].values())\n",
    "    \n",
    "    return np.random.choice(possible_chars, p=possible_values)"
   ]
  },
  {
   "cell_type": "code",
   "execution_count": 8,
   "metadata": {},
   "outputs": [],
   "source": [
    "def generateText(starting_text, k=4, maxlen=1000):\n",
    "    sent = starting_text\n",
    "    ctx = starting_text[-k:]\n",
    "    \n",
    "    for i in range(maxlen):\n",
    "        next_pred = sample_next(ctx, model, k)\n",
    "        sent += next_pred\n",
    "        ctx = sent[-k:]\n",
    "        \n",
    "    return sent"
   ]
  },
  {
   "cell_type": "code",
   "execution_count": 9,
   "metadata": {},
   "outputs": [
    {
     "data": {
      "text/plain": [
       "\"what you thought in you're smothere\\nBy become so numb, I can't feel you're smother mistake!\\nI've becoming too tired, so tired of being too tightly, afraid to you're expecting this another mistake is anothere\\nBecoming this anothere\\nI've become so much more aware\\nBecoming that you're smothere\\nI've becoming what you're smothere\\nBecome so numb, I can't feel you\\nI've become so much more like me and be\\nHas fallen apart right in the undertow\\nEvery step than I can't feel you\\nI've becoming this another mistake to do\\nIs be less like me and be less like you\\nAnd I waste is anothere\\nBy becoming this anothere\\nBy becoming too tired of you the undertow, just caught in the undertow, just caught in front of walking too\\nBut I take is all I want to you the surface\\nI don't feel you the undertow\\nEverything me?\\nHolding me?\\nHolding too\\nBut I take!\\nI've become so failing in the undertow, just caught in the undertow\\nAnd I know you the undertow, just caught in you\\nI've becoming this all I want to you\\nI've become so \""
      ]
     },
     "execution_count": 9,
     "metadata": {},
     "output_type": "execute_result"
    }
   ],
   "source": [
    "generateText(\"what\")"
   ]
  },
  {
   "cell_type": "code",
   "execution_count": null,
   "metadata": {},
   "outputs": [],
   "source": []
  }
 ],
 "metadata": {
  "kernelspec": {
   "display_name": "Python 3",
   "language": "python",
   "name": "python3"
  },
  "language_info": {
   "codemirror_mode": {
    "name": "ipython",
    "version": 3
   },
   "file_extension": ".py",
   "mimetype": "text/x-python",
   "name": "python",
   "nbconvert_exporter": "python",
   "pygments_lexer": "ipython3",
   "version": "3.7.3"
  }
 },
 "nbformat": 4,
 "nbformat_minor": 2
}
