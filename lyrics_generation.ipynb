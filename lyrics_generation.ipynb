{
 "cells": [
  {
   "cell_type": "code",
   "execution_count": 1,
   "metadata": {},
   "outputs": [],
   "source": [
    "import numpy as np"
   ]
  },
  {
   "cell_type": "code",
   "execution_count": 2,
   "metadata": {},
   "outputs": [],
   "source": [
    "def generateTable(data, k=4):\n",
    "    \n",
    "    T = {}\n",
    "    \n",
    "    for i in range(len(data)-k):\n",
    "        X = data[i:i+k]\n",
    "        Y = data[i]\n",
    "        \n",
    "        if T.get(X) is None:\n",
    "            T[X] = {}\n",
    "            T[X][Y] = 1\n",
    "        else:\n",
    "            if T[X].get(Y) is None:   \n",
    "                T[X][Y] = 1\n",
    "            else:\n",
    "                T[X][Y] += 1\n",
    "                \n",
    "    return T"
   ]
  },
  {
   "cell_type": "code",
   "execution_count": 3,
   "metadata": {},
   "outputs": [],
   "source": [
    "def convertIntoProbModel(T):\n",
    "    \n",
    "    for kx in T.keys():\n",
    "        \n",
    "        s = float(sum(T[kx].values()))\n",
    "        \n",
    "        for k in T[kx].keys():\n",
    "            T[kx][k] /= s\n",
    "            \n",
    "    return T"
   ]
  },
  {
   "cell_type": "code",
   "execution_count": 4,
   "metadata": {},
   "outputs": [],
   "source": [
    "text_path = \"song_lyrics.txt\"\n",
    "\n",
    "def load_text(filename):\n",
    "    \n",
    "    with open(filename, encoding='utf8') as f:\n",
    "        return f.read()\n",
    "    \n",
    "data = load_text(text_path)"
   ]
  },
  {
   "cell_type": "markdown",
   "metadata": {},
   "source": [
    "## Training Markov Chain"
   ]
  },
  {
   "cell_type": "code",
   "execution_count": 5,
   "metadata": {},
   "outputs": [],
   "source": [
    "def trainMarkovChain(text):\n",
    "    \n",
    "    T = generateTable(text)\n",
    "    T = convertIntoProbModel(T)\n",
    "    \n",
    "    return T"
   ]
  },
  {
   "cell_type": "code",
   "execution_count": 6,
   "metadata": {},
   "outputs": [
    {
     "name": "stdout",
     "output_type": "stream",
     "text": [
      "{\"I'm \": {'I': 1.0}, \"'m t\": {\"'\": 1.0}, 'm ti': {'m': 1.0}, ' tir': {' ': 1.0}, 'tire': {'t': 1.0}, 'ired': {'i': 1.0}, 'red ': {'r': 1.0}, 'ed o': {'e': 1.0}, 'd of': {'d': 1.0}, ' of ': {' ': 1.0}, 'of b': {'o': 1.0}, 'f be': {'f': 1.0}, ' bei': {' ': 1.0}, 'bein': {'b': 1.0}, 'eing': {'e': 1.0}, 'ing ': {'i': 1.0}, 'ng w': {'n': 1.0}, 'g wh': {'g': 1.0}, ' wha': {' ': 1.0}, 'what': {'w': 1.0}, 'hat ': {'h': 1.0}, 'at y': {'a': 1.0}, 't yo': {'t': 1.0}, ' you': {' ': 1.0}, 'you ': {'y': 1.0}, 'ou w': {'o': 1.0}, 'u wa': {'u': 1.0}, ' wan': {' ': 1.0}, 'want': {'w': 1.0}, 'ant ': {'a': 1.0}, 'nt m': {'n': 1.0}, 't me': {'t': 1.0}, ' me ': {' ': 1.0}, 'me t': {'m': 1.0}, 'e to': {'e': 1.0}, ' to ': {' ': 1.0}, 'to b': {'t': 1.0}, 'o be': {'o': 1.0}, ' be\\n': {' ': 1.0}, 'be\\nF': {'b': 1.0}, 'e\\nFe': {'e': 1.0}, '\\nFee': {'\\n': 1.0}, 'Feel': {'F': 1.0}, 'eeli': {'e': 1.0}, 'elin': {'e': 1.0}, 'ling': {'l': 1.0}, 'ng s': {'n': 1.0}, 'g so': {'g': 1.0}, ' so ': {' ': 1.0}, 'so f': {'s': 1.0}, 'o fa': {'o': 1.0}, ' fai': {' ': 1.0}, 'fait': {'f': 1.0}, 'aith': {'a': 1.0}, 'ithl': {'i': 1.0}, 'thle': {'t': 1.0}, 'hles': {'h': 1.0}, 'less': {'l': 1.0}, 'ess,': {'e': 1.0}, 'ss, ': {'s': 1.0}, 's, l': {'s': 1.0}, ', lo': {',': 1.0}, ' los': {' ': 1.0}, 'lost': {'l': 1.0}, 'ost ': {'o': 1.0}, 'st u': {'s': 1.0}, 't un': {'t': 1.0}, ' und': {' ': 1.0}, 'unde': {'u': 1.0}, 'nder': {'n': 1.0}, 'der ': {'d': 1.0}, 'er t': {'e': 1.0}, 'r th': {'r': 1.0}, ' the': {' ': 1.0}, 'the ': {'t': 1.0}, 'he s': {'h': 1.0}, 'e su': {'e': 1.0}, ' sur': {' ': 1.0}, 'surf': {'s': 1.0}, 'urfa': {'u': 1.0}, 'rfac': {'r': 1.0}, 'face': {'f': 1.0}, 'ace\\n': {'a': 1.0}, 'ce\\nI': {'c': 1.0}, 'e\\nI ': {'e': 1.0}, '\\nI d': {'\\n': 1.0}, 'I do': {'I': 1.0}, ' don': {' ': 1.0}, \"don'\": {'d': 1.0}, \"on't\": {'o': 1.0}, \"n't \": {'n': 1.0}, \"'t k\": {\"'\": 1.0}, 't kn': {'t': 1.0}, ' kno': {' ': 1.0}, 'know': {'k': 1.0}, 'now ': {'n': 1.0}, 'ow w': {'o': 1.0}, 'w wh': {'w': 1.0}, \"you'\": {'y': 1.0}, \"ou'r\": {'o': 1.0}, \"u're\": {'u': 1.0}, \"'re \": {\"'\": 1.0}, 're e': {'r': 1.0}, 'e ex': {'e': 1.0}, ' exp': {' ': 1.0}, 'expe': {'e': 1.0}, 'xpec': {'x': 1.0}, 'pect': {'p': 1.0}, 'ecti': {'e': 1.0}, 'ctin': {'c': 1.0}, 'ting': {'t': 1.0}, 'ng o': {'n': 1.0}, 'g of': {'g': 1.0}, 'of m': {'o': 1.0}, 'f me': {'f': 1.0}, ' me\\n': {' ': 1.0}, 'me\\nP': {'m': 1.0}, 'e\\nPu': {'e': 1.0}, '\\nPut': {'\\n': 1.0}, 'Put ': {'P': 1.0}, 'ut u': {'u': 1.0}, 'he p': {'h': 1.0}, 'e pr': {'e': 1.0}, ' pre': {' ': 1.0}, 'pres': {'p': 1.0}, 'ress': {'r': 1.0}, 'essu': {'e': 1.0}, 'ssur': {'s': 1.0}, 'sure': {'s': 1.0}, 'ure ': {'u': 1.0}, 're o': {'r': 1.0}, 'e of': {'e': 1.0}, 'of w': {'o': 1.0}, 'f wa': {'f': 1.0}, ' wal': {' ': 1.0}, 'walk': {'w': 1.0}, 'alki': {'a': 1.0}, 'lkin': {'l': 1.0}, 'king': {'k': 1.0}, 'ng i': {'n': 1.0}, 'g in': {'g': 1.0}, ' in ': {' ': 1.0}, 'in y': {'i': 1.0}, 'n yo': {'n': 1.0}, 'your': {'y': 1.0}, 'our ': {'o': 1.0}, 'ur s': {'u': 1.0}, 'r sh': {'r': 1.0}, ' sho': {' ': 1.0}, 'shoe': {'s': 1.0}, 'hoes': {'h': 1.0}, 'oes\\n': {'o': 1.0}, 'es\\nC': {'e': 1.0}, 's\\nCa': {'s': 1.0}, '\\nCau': {'\\n': 1.0}, 'Caug': {'C': 1.0}, 'augh': {'a': 1.0}, 'ught': {'u': 1.0}, 'ght ': {'g': 1.0}, 'ht i': {'h': 1.0}, 't in': {'t': 1.0}, 'in t': {'i': 1.0}, 'n th': {'n': 1.0}, 'he u': {'h': 1.0}, 'e un': {'e': 1.0}, 'dert': {'d': 1.0}, 'erto': {'e': 1.0}, 'rtow': {'r': 1.0}, 'tow,': {'t': 1.0}, 'ow, ': {'o': 1.0}, 'w, j': {'w': 1.0}, ', ju': {',': 1.0}, ' jus': {' ': 1.0}, 'just': {'j': 1.0}, 'ust ': {'u': 1.0}, 'st c': {'s': 1.0}, 't ca': {'t': 1.0}, ' cau': {' ': 1.0}, 'caug': {'c': 1.0}, 'tow\\n': {'t': 1.0}, 'ow\\nE': {'o': 1.0}, 'w\\nEv': {'w': 1.0}, '\\nEve': {'\\n': 1.0}, 'Ever': {'E': 1.0}, 'very': {'v': 1.0}, 'ery ': {'e': 1.0}, 'ry s': {'r': 1.0}, 'y st': {'y': 1.0}, ' ste': {' ': 1.0}, 'step': {'s': 1.0}, 'tep ': {'t': 1.0}, 'ep t': {'e': 1.0}, 'p th': {'p': 1.0}, ' tha': {' ': 1.0}, 'that': {'t': 1.0}, 'at I': {'a': 1.0}, 't I ': {'t': 1.0}, ' I t': {' ': 1.0}, 'I ta': {'I': 1.0}, ' tak': {' ': 1.0}, 'take': {'t': 1.0}, 'ake ': {'a': 1.0}, 'ke i': {'k': 1.0}, 'e is': {'e': 1.0}, ' is ': {' ': 1.0}, 'is a': {'i': 1.0}, 's an': {'s': 1.0}, ' ano': {' ': 1.0}, 'anot': {'a': 1.0}, 'noth': {'n': 1.0}, 'othe': {'o': 1.0}, 'ther': {'t': 1.0}, 'her ': {'h': 1.0}, 'er m': {'e': 1.0}, 'r mi': {'r': 1.0}, ' mis': {' ': 1.0}, 'mist': {'m': 1.0}, 'ista': {'i': 1.0}, 'stak': {'s': 1.0}, 'ke t': {'k': 1.0}, 'to y': {'t': 1.0}, 'o yo': {'o': 1.0}, 'you\\n': {'y': 1.0}, 'ou\\nC': {'o': 1.0}, 'u\\nCa': {'u': 1.0}, 'ow\\nI': {'o': 1.0}, \"w\\nI'\": {'w': 1.0}, \"\\nI'v\": {'\\n': 1.0}, \"I've\": {'I': 1.0}, \"'ve \": {\"'\": 1.0}, 've b': {'v': 1.0}, 'e be': {'e': 1.0}, ' bec': {' ': 1.0}, 'beco': {'b': 1.0}, 'ecom': {'e': 1.0}, 'come': {'c': 1.0}, 'ome ': {'o': 1.0}, 'me s': {'m': 1.0}, 'e so': {'e': 1.0}, 'so n': {'s': 1.0}, 'o nu': {'o': 1.0}, ' num': {' ': 1.0}, 'numb': {'n': 1.0}, 'umb,': {'u': 1.0}, 'mb, ': {'m': 1.0}, 'b, I': {'b': 1.0}, ', I ': {',': 1.0}, ' I c': {' ': 1.0}, 'I ca': {'I': 1.0}, ' can': {' ': 1.0}, \"can'\": {'c': 1.0}, \"an't\": {'a': 1.0}, \"'t f\": {\"'\": 1.0}, 't fe': {'t': 1.0}, ' fee': {' ': 1.0}, 'feel': {'f': 1.0}, 'eel ': {'e': 1.0}, 'el y': {'e': 1.0}, 'l yo': {'l': 1.0}, 'ou t': {'o': 1.0}, 'u th': {'u': 1.0}, 'here': {'h': 1.0}, 'ere\\n': {'e': 1.0}, 're\\nB': {'r': 1.0}, 'e\\nBe': {'e': 1.0}, '\\nBec': {'\\n': 1.0}, 'Beco': {'B': 1.0}, 'so t': {'s': 1.0}, 'o ti': {'o': 1.0}, 'red,': {'r': 1.0}, 'ed, ': {'e': 1.0}, 'd, s': {'d': 1.0}, ', so': {',': 1.0}, 'so m': {'s': 1.0}, 'o mu': {'o': 1.0}, ' muc': {' ': 1.0}, 'much': {'m': 1.0}, 'uch ': {'u': 1.0}, 'ch m': {'c': 1.0}, 'h mo': {'h': 1.0}, ' mor': {' ': 1.0}, 'more': {'m': 1.0}, 'ore ': {'o': 1.0}, 're a': {'r': 1.0}, 'e aw': {'e': 1.0}, ' awa': {' ': 1.0}, 'awar': {'a': 1.0}, 'ware': {'w': 1.0}, 'are\\n': {'a': 1.0}, 'e\\nBy': {'e': 1.0}, '\\nBy ': {'\\n': 1.0}, 'By b': {'B': 1.0}, 'y be': {'y': 1.0}, 'comi': {'c': 1.0}, 'omin': {'o': 1.0}, 'ming': {'m': 1.0}, 'ng t': {'n': 1.0}, 'g th': {'g': 1.0}, ' thi': {' ': 1.0}, 'this': {'t': 1.0}, 'his ': {'h': 1.0}, 's al': {'s': 1.0}, ' all': {' ': 1.0}, 'all ': {'a': 1.0}, 'll I': {'l': 1.0}, 'l I ': {'l': 1.0}, ' I w': {' ': 1.0}, 'I wa': {'I': 1.0}, 'nt t': {'n': 1.0}, 't to': {'t': 1.0}, 'to d': {'t': 1.0}, 'o do': {'o': 1.0}, ' do\\n': {' ': 1.0}, 'do\\nI': {'d': 1.0}, 'o\\nIs': {'o': 1.0}, '\\nIs ': {'\\n': 1.0}, 'Is b': {'I': 1.0}, 's be': {'s': 1.0}, ' be ': {' ': 1.0}, 'be m': {'b': 1.0}, 'e mo': {'e': 1.0}, 're l': {'r': 1.0}, 'e li': {'e': 1.0}, ' lik': {' ': 1.0}, 'like': {'l': 1.0}, 'ike ': {'i': 1.0}, 'ke m': {'k': 1.0}, 'e me': {'e': 1.0}, 'me a': {'m': 1.0}, 'e an': {'e': 1.0}, ' and': {' ': 1.0}, 'and ': {'a': 1.0}, 'nd b': {'n': 1.0}, 'd be': {'d': 1.0}, 'be l': {'b': 1.0}, 'e le': {'e': 1.0}, ' les': {' ': 1.0}, 'ess ': {'e': 1.0}, 'ss l': {'s': 1.0}, 's li': {'s': 1.0}, 'ke y': {'k': 1.0}, 'e yo': {'e': 1.0}, '\\nCan': {'\\n': 1.0}, \"Can'\": {'C': 1.0}, \"'t y\": {\"'\": 1.0}, 'ou s': {'o': 1.0}, 'u se': {'u': 1.0}, ' see': {' ': 1.0}, 'see ': {'s': 1.0}, 'ee t': {'e': 1.0}, 'e th': {'e': 1.0}, 're s': {'r': 1.0}, 'e sm': {'e': 1.0}, ' smo': {' ': 1.0}, 'smot': {'s': 1.0}, 'moth': {'m': 1.0}, 'heri': {'h': 1.0}, 'erin': {'e': 1.0}, 'ring': {'r': 1.0}, 'ng m': {'n': 1.0}, 'g me': {'g': 1.0}, ' me?': {' ': 1.0}, 'me?\\n': {'m': 1.0}, 'e?\\nH': {'e': 1.0}, '?\\nHo': {'?': 1.0}, '\\nHol': {'\\n': 1.0}, 'Hold': {'H': 1.0}, 'oldi': {'o': 1.0}, 'ldin': {'l': 1.0}, 'ding': {'d': 1.0}, 'g to': {'g': 1.0}, ' too': {' ': 1.0}, 'too ': {'t': 1.0}, 'oo t': {'o': 1.0}, ' tig': {' ': 1.0}, 'tigh': {'t': 1.0}, 'ight': {'i': 1.0}, 'ghtl': {'g': 1.0}, 'htly': {'h': 1.0}, 'tly,': {'t': 1.0}, 'ly, ': {'l': 1.0}, 'y, a': {'y': 1.0}, ', af': {',': 1.0}, ' afr': {' ': 1.0}, 'afra': {'a': 1.0}, 'frai': {'f': 1.0}, 'raid': {'r': 1.0}, 'aid ': {'a': 1.0}, 'id t': {'i': 1.0}, 'd to': {'d': 1.0}, 'to l': {'t': 1.0}, 'o lo': {'o': 1.0}, 'lose': {'l': 1.0}, 'ose ': {'o': 1.0}, 'se c': {'s': 1.0}, 'e co': {'e': 1.0}, ' con': {' ': 1.0}, 'cont': {'c': 1.0}, 'ontr': {'o': 1.0}, 'ntro': {'n': 1.0}, 'trol': {'t': 1.0}, 'rol\\n': {'r': 1.0}, \"ol\\n'\": {'o': 1.0}, \"l\\n'C\": {'l': 1.0}, \"\\n'Ca\": {'\\n': 1.0}, \"'Cau\": {\"'\": 1.0}, 'Caus': {'C': 1.0}, 'ause': {'a': 1.0}, 'use ': {'u': 1.0}, 'se e': {'s': 1.0}, 'e ev': {'e': 1.0}, ' eve': {' ': 1.0}, 'ever': {'e': 1.0}, 'eryt': {'e': 1.0}, 'ryth': {'r': 1.0}, 'ythi': {'y': 1.0}, 'thin': {'t': 1.0}, 'hing': {'h': 1.0}, ' tho': {' ': 1.0}, 'thou': {'t': 1.0}, 'houg': {'h': 1.0}, 'ough': {'o': 1.0}, 'ht I': {'h': 1.0}, 'I wo': {'I': 1.0}, ' wou': {' ': 1.0}, 'woul': {'w': 1.0}, 'ould': {'o': 1.0}, 'uld ': {'u': 1.0}, 'ld b': {'l': 1.0}, 'be\\nH': {'b': 1.0}, 'e\\nHa': {'e': 1.0}, '\\nHas': {'\\n': 1.0}, 'Has ': {'H': 1.0}, 'as f': {'a': 1.0}, 's fa': {'s': 1.0}, ' fal': {' ': 1.0}, 'fall': {'f': 1.0}, 'alle': {'a': 1.0}, 'llen': {'l': 1.0}, 'len ': {'l': 1.0}, 'en a': {'e': 1.0}, 'n ap': {'n': 1.0}, ' apa': {' ': 1.0}, 'apar': {'a': 1.0}, 'part': {'p': 1.0}, 'art ': {'a': 1.0}, 'rt r': {'r': 1.0}, 't ri': {'t': 1.0}, ' rig': {' ': 1.0}, 'righ': {'r': 1.0}, 'in f': {'i': 1.0}, 'n fr': {'n': 1.0}, ' fro': {' ': 1.0}, 'fron': {'f': 1.0}, 'ront': {'r': 1.0}, 'ont ': {'o': 1.0}, 'nt o': {'n': 1.0}, 't of': {'t': 1.0}, 'of y': {'o': 1.0}, 'f yo': {'f': 1.0}, 'ow\\nA': {'o': 1.0}, 'w\\nAn': {'w': 1.0}, '\\nAnd': {'\\n': 1.0}, 'And ': {'A': 1.0}, 'nd e': {'n': 1.0}, 'd ev': {'d': 1.0}, 'y se': {'y': 1.0}, ' sec': {' ': 1.0}, 'seco': {'s': 1.0}, 'econ': {'e': 1.0}, 'cond': {'c': 1.0}, 'ond ': {'o': 1.0}, 'nd I': {'n': 1.0}, 'd I ': {'d': 1.0}, ' was': {' ': 1.0}, 'wast': {'w': 1.0}, 'aste': {'a': 1.0}, 'ste ': {'s': 1.0}, 'te i': {'t': 1.0}, 'is m': {'i': 1.0}, 's mo': {'s': 1.0}, 're t': {'r': 1.0}, 'than': {'t': 1.0}, 'han ': {'h': 1.0}, 'an I': {'a': 1.0}, 'n I ': {'n': 1.0}, 'can ': {'c': 1.0}, 'an t': {'a': 1.0}, 'n ta': {'n': 1.0}, 'ake!': {'a': 1.0}, 'ke!\\n': {'k': 1.0}, 'e!\\nI': {'e': 1.0}, \"!\\nI'\": {'!': 1.0}, 'ou\\nA': {'o': 1.0}, 'u\\nAn': {'u': 1.0}, ' I k': {' ': 1.0}, 'I kn': {'I': 1.0}, 'ow I': {'o': 1.0}, 'w I ': {'w': 1.0}, ' I m': {' ': 1.0}, 'I ma': {'I': 1.0}, ' may': {' ': 1.0}, 'may ': {'m': 1.0}, 'ay e': {'a': 1.0}, 'y en': {'y': 1.0}, ' end': {' ': 1.0}, 'end ': {'e': 1.0}, 'nd u': {'n': 1.0}, 'd up': {'d': 1.0}, ' up ': {' ': 1.0}, 'up f': {'u': 1.0}, 'p fa': {'p': 1.0}, 'fail': {'f': 1.0}, 'aili': {'a': 1.0}, 'ilin': {'i': 1.0}, 'too\\n': {'t': 1.0}, 'oo\\nB': {'o': 1.0}, 'o\\nBu': {'o': 1.0}, '\\nBut': {'\\n': 1.0}, 'But ': {'B': 1.0}, 'ut I': {'u': 1.0}, 'ow y': {'o': 1.0}, 'w yo': {'w': 1.0}, 'u we': {'u': 1.0}, ' wer': {' ': 1.0}, 'were': {'w': 1.0}, 'ere ': {'e': 1.0}, 're j': {'r': 1.0}, 'e ju': {'e': 1.0}, 'st l': {'s': 1.0}, 't li': {'t': 1.0}, 'me w': {'m': 1.0}, 'e wi': {'e': 1.0}, ' wit': {' ': 1.0}, 'with': {'w': 1.0}, 'ith ': {'i': 1.0}, 'th s': {'t': 1.0}, 'h so': {'h': 1.0}, ' som': {' ': 1.0}, 'some': {'s': 1.0}, 'omeo': {'o': 1.0}, 'meon': {'m': 1.0}, 'eone': {'e': 1.0}, 'one ': {'o': 1.0}, 'ne d': {'n': 1.0}, 'e di': {'e': 1.0}, ' dis': {' ': 1.0}, 'disa': {'d': 1.0}, 'isap': {'i': 1.0}, 'sapp': {'s': 1.0}, 'appo': {'a': 1.0}, 'ppoi': {'p': 1.0}, 'poin': {'p': 1.0}, 'oint': {'o': 1.0}, 'inte': {'i': 1.0}, 'nted': {'n': 1.0}, 'ted ': {'t': 1.0}, 'ed i': {'e': 1.0}, 'd in': {'d': 1.0}, 'ou\\nI': {'o': 1.0}, \"u\\nI'\": {'u': 1.0}, 're\\nI': {'r': 1.0}, \"e\\nI'\": {'e': 1.0}, \"\\nI'm\": {'\\n': 1.0}, 'be\\nI': {'b': 1.0}}\n"
     ]
    }
   ],
   "source": [
    "model = trainMarkovChain(data)\n",
    "print(model)"
   ]
  },
  {
   "cell_type": "markdown",
   "metadata": {},
   "source": [
    "## Generating Text"
   ]
  },
  {
   "cell_type": "code",
   "execution_count": 7,
   "metadata": {},
   "outputs": [],
   "source": [
    "def sample_next(ctx, T, k):\n",
    "    \n",
    "    ctx = ctx[-k:]\n",
    "    if T.get(ctx) is None:\n",
    "        return \" \"\n",
    "    \n",
    "    possible_chars = list(T[ctx].keys())\n",
    "    possible_values = list(T[ctx].values())\n",
    "    \n",
    "    return np.random.choice(possible_chars, p=possible_values)"
   ]
  },
  {
   "cell_type": "code",
   "execution_count": 14,
   "metadata": {},
   "outputs": [],
   "source": [
    "def generateText(starting_text, k=4, maxlen=1000):\n",
    "    sent = starting_text\n",
    "    ctx = starting_text[-k:]\n",
    "    \n",
    "    for i in range(maxlen):\n",
    "        next_pred = sample_next(ctx, model, k)\n",
    "        sent += next_pred\n",
    "        ctx = sent[-k:]\n",
    "        \n",
    "    return sent"
   ]
  },
  {
   "cell_type": "code",
   "execution_count": 15,
   "metadata": {},
   "outputs": [
    {
     "data": {
      "text/plain": [
       "'whatw                                                                                                                                                                                                                                                                                                                                                                                                                                                                                                                                                                                                                                                                                                                                                                                                                                                                                                                                                                                                                                       '"
      ]
     },
     "execution_count": 15,
     "metadata": {},
     "output_type": "execute_result"
    }
   ],
   "source": [
    "generateText(\"what\")"
   ]
  },
  {
   "cell_type": "code",
   "execution_count": null,
   "metadata": {},
   "outputs": [],
   "source": []
  }
 ],
 "metadata": {
  "kernelspec": {
   "display_name": "Python 3",
   "language": "python",
   "name": "python3"
  },
  "language_info": {
   "codemirror_mode": {
    "name": "ipython",
    "version": 3
   },
   "file_extension": ".py",
   "mimetype": "text/x-python",
   "name": "python",
   "nbconvert_exporter": "python",
   "pygments_lexer": "ipython3",
   "version": "3.7.3"
  }
 },
 "nbformat": 4,
 "nbformat_minor": 2
}
